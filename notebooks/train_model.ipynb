{
 "cells": [
  {
   "cell_type": "code",
   "execution_count": 1,
   "metadata": {},
   "outputs": [],
   "source": [
    "import json\n",
    "import pandas as pd"
   ]
  },
  {
   "cell_type": "code",
   "execution_count": 2,
   "metadata": {},
   "outputs": [],
   "source": [
    "from torch import cuda\n",
    "device = 'cuda' if cuda.is_available() else 'cpu'"
   ]
  },
  {
   "cell_type": "code",
   "execution_count": 3,
   "metadata": {},
   "outputs": [
    {
     "name": "stderr",
     "output_type": "stream",
     "text": [
      "C:\\Users\\abhya\\AppData\\Roaming\\Python\\Python312\\site-packages\\tqdm\\auto.py:21: TqdmWarning: IProgress not found. Please update jupyter and ipywidgets. See https://ipywidgets.readthedocs.io/en/stable/user_install.html\n",
      "  from .autonotebook import tqdm as notebook_tqdm\n"
     ]
    }
   ],
   "source": [
    "from simpletransformers.classification import MultiLabelClassificationModel, MultiLabelClassificationArgs\n",
    "import logging"
   ]
  },
  {
   "cell_type": "code",
   "execution_count": 4,
   "metadata": {},
   "outputs": [
    {
     "data": {
      "text/html": [
       "<div>\n",
       "<style scoped>\n",
       "    .dataframe tbody tr th:only-of-type {\n",
       "        vertical-align: middle;\n",
       "    }\n",
       "\n",
       "    .dataframe tbody tr th {\n",
       "        vertical-align: top;\n",
       "    }\n",
       "\n",
       "    .dataframe thead th {\n",
       "        text-align: right;\n",
       "    }\n",
       "</style>\n",
       "<table border=\"1\" class=\"dataframe\">\n",
       "  <thead>\n",
       "    <tr style=\"text-align: right;\">\n",
       "      <th></th>\n",
       "      <th>title</th>\n",
       "      <th>description</th>\n",
       "      <th>clean_description</th>\n",
       "      <th>genres</th>\n",
       "      <th>weighted_score</th>\n",
       "      <th>Fiction</th>\n",
       "      <th>Romance</th>\n",
       "      <th>Nonfiction</th>\n",
       "      <th>Children's</th>\n",
       "      <th>Young Adult</th>\n",
       "      <th>...</th>\n",
       "      <th>Crime</th>\n",
       "      <th>Thriller</th>\n",
       "      <th>Fantasy</th>\n",
       "      <th>Science Fiction</th>\n",
       "      <th>Horror</th>\n",
       "      <th>Drama</th>\n",
       "      <th>Poetry</th>\n",
       "      <th>Art</th>\n",
       "      <th>Humor</th>\n",
       "      <th>Religion</th>\n",
       "    </tr>\n",
       "  </thead>\n",
       "  <tbody>\n",
       "    <tr>\n",
       "      <th>0</th>\n",
       "      <td>Harry Potter and the Sorcerer's Stone</td>\n",
       "      <td>Harry Potter's life is miserable. His parents ...</td>\n",
       "      <td>harry potter life miserable parent dead he stu...</td>\n",
       "      <td>['Fantasy', 'Fiction', 'Young Adult', 'Magic',...</td>\n",
       "      <td>2.388</td>\n",
       "      <td>1</td>\n",
       "      <td>0</td>\n",
       "      <td>0</td>\n",
       "      <td>1</td>\n",
       "      <td>1</td>\n",
       "      <td>...</td>\n",
       "      <td>0</td>\n",
       "      <td>0</td>\n",
       "      <td>1</td>\n",
       "      <td>0</td>\n",
       "      <td>0</td>\n",
       "      <td>0</td>\n",
       "      <td>0</td>\n",
       "      <td>0</td>\n",
       "      <td>0</td>\n",
       "      <td>0</td>\n",
       "    </tr>\n",
       "  </tbody>\n",
       "</table>\n",
       "<p>1 rows × 22 columns</p>\n",
       "</div>"
      ],
      "text/plain": [
       "                                   title  \\\n",
       "0  Harry Potter and the Sorcerer's Stone   \n",
       "\n",
       "                                         description  \\\n",
       "0  Harry Potter's life is miserable. His parents ...   \n",
       "\n",
       "                                   clean_description  \\\n",
       "0  harry potter life miserable parent dead he stu...   \n",
       "\n",
       "                                              genres  weighted_score  Fiction  \\\n",
       "0  ['Fantasy', 'Fiction', 'Young Adult', 'Magic',...           2.388        1   \n",
       "\n",
       "   Romance  Nonfiction  Children's  Young Adult  ...  Crime  Thriller  \\\n",
       "0        0           0           1            1  ...      0         0   \n",
       "\n",
       "   Fantasy  Science Fiction  Horror  Drama  Poetry  Art  Humor  Religion  \n",
       "0        1                0       0      0       0    0      0         0  \n",
       "\n",
       "[1 rows x 22 columns]"
      ]
     },
     "execution_count": 4,
     "metadata": {},
     "output_type": "execute_result"
    }
   ],
   "source": [
    "books_out_df = pd.read_csv('../dataset//transformed/books_final_out.csv')\n",
    "books_out_df.head(1)"
   ]
  },
  {
   "cell_type": "code",
   "execution_count": 5,
   "metadata": {},
   "outputs": [
    {
     "data": {
      "text/html": [
       "<div>\n",
       "<style scoped>\n",
       "    .dataframe tbody tr th:only-of-type {\n",
       "        vertical-align: middle;\n",
       "    }\n",
       "\n",
       "    .dataframe tbody tr th {\n",
       "        vertical-align: top;\n",
       "    }\n",
       "\n",
       "    .dataframe thead th {\n",
       "        text-align: right;\n",
       "    }\n",
       "</style>\n",
       "<table border=\"1\" class=\"dataframe\">\n",
       "  <thead>\n",
       "    <tr style=\"text-align: right;\">\n",
       "      <th></th>\n",
       "      <th>clean_description</th>\n",
       "      <th>genres</th>\n",
       "      <th>Fiction</th>\n",
       "      <th>Romance</th>\n",
       "      <th>Nonfiction</th>\n",
       "      <th>Children's</th>\n",
       "      <th>Young Adult</th>\n",
       "      <th>Teen</th>\n",
       "      <th>Mystery</th>\n",
       "      <th>Crime</th>\n",
       "      <th>Thriller</th>\n",
       "      <th>Fantasy</th>\n",
       "      <th>Science Fiction</th>\n",
       "      <th>Horror</th>\n",
       "      <th>Drama</th>\n",
       "      <th>Poetry</th>\n",
       "      <th>Art</th>\n",
       "      <th>Humor</th>\n",
       "      <th>Religion</th>\n",
       "    </tr>\n",
       "  </thead>\n",
       "  <tbody>\n",
       "    <tr>\n",
       "      <th>0</th>\n",
       "      <td>harry potter life miserable parent dead he stu...</td>\n",
       "      <td>['Fantasy', 'Fiction', 'Young Adult', 'Magic',...</td>\n",
       "      <td>1</td>\n",
       "      <td>0</td>\n",
       "      <td>0</td>\n",
       "      <td>1</td>\n",
       "      <td>1</td>\n",
       "      <td>0</td>\n",
       "      <td>0</td>\n",
       "      <td>0</td>\n",
       "      <td>0</td>\n",
       "      <td>1</td>\n",
       "      <td>0</td>\n",
       "      <td>0</td>\n",
       "      <td>0</td>\n",
       "      <td>0</td>\n",
       "      <td>0</td>\n",
       "      <td>0</td>\n",
       "      <td>0</td>\n",
       "    </tr>\n",
       "    <tr>\n",
       "      <th>1</th>\n",
       "      <td>winning mean fame fortune losing mean certain ...</td>\n",
       "      <td>['Young Adult', 'Fiction', 'Dystopia', 'Fantas...</td>\n",
       "      <td>1</td>\n",
       "      <td>1</td>\n",
       "      <td>0</td>\n",
       "      <td>1</td>\n",
       "      <td>1</td>\n",
       "      <td>1</td>\n",
       "      <td>0</td>\n",
       "      <td>0</td>\n",
       "      <td>0</td>\n",
       "      <td>1</td>\n",
       "      <td>1</td>\n",
       "      <td>0</td>\n",
       "      <td>0</td>\n",
       "      <td>0</td>\n",
       "      <td>0</td>\n",
       "      <td>0</td>\n",
       "      <td>0</td>\n",
       "    </tr>\n",
       "  </tbody>\n",
       "</table>\n",
       "</div>"
      ],
      "text/plain": [
       "                                   clean_description  \\\n",
       "0  harry potter life miserable parent dead he stu...   \n",
       "1  winning mean fame fortune losing mean certain ...   \n",
       "\n",
       "                                              genres  Fiction  Romance  \\\n",
       "0  ['Fantasy', 'Fiction', 'Young Adult', 'Magic',...        1        0   \n",
       "1  ['Young Adult', 'Fiction', 'Dystopia', 'Fantas...        1        1   \n",
       "\n",
       "   Nonfiction  Children's  Young Adult  Teen  Mystery  Crime  Thriller  \\\n",
       "0           0           1            1     0        0      0         0   \n",
       "1           0           1            1     1        0      0         0   \n",
       "\n",
       "   Fantasy  Science Fiction  Horror  Drama  Poetry  Art  Humor  Religion  \n",
       "0        1                0       0      0       0    0      0         0  \n",
       "1        1                1       0      0       0    0      0         0  "
      ]
     },
     "execution_count": 5,
     "metadata": {},
     "output_type": "execute_result"
    }
   ],
   "source": [
    "books_df = pd.read_csv(\"../dataset/transformed/books_final_trans.csv\")\n",
    "books_df.head(2)"
   ]
  },
  {
   "cell_type": "code",
   "execution_count": 6,
   "metadata": {},
   "outputs": [
    {
     "data": {
      "text/plain": [
       "(['Fiction',\n",
       "  'Romance',\n",
       "  'Nonfiction',\n",
       "  \"Children's\",\n",
       "  'Young Adult',\n",
       "  'Teen',\n",
       "  'Mystery',\n",
       "  'Crime',\n",
       "  'Thriller',\n",
       "  'Fantasy',\n",
       "  'Science Fiction',\n",
       "  'Horror',\n",
       "  'Drama',\n",
       "  'Poetry',\n",
       "  'Art',\n",
       "  'Humor',\n",
       "  'Religion'],\n",
       " 17)"
      ]
     },
     "execution_count": 6,
     "metadata": {},
     "output_type": "execute_result"
    }
   ],
   "source": [
    "book_genres = json.load(open(\"../dataset/book_genres.json\", \"r\"))\n",
    "major_genres = [x['genre'] for x in book_genres[:-1]]\n",
    "major_genres, len(major_genres)"
   ]
  },
  {
   "cell_type": "code",
   "execution_count": 7,
   "metadata": {},
   "outputs": [
    {
     "data": {
      "text/html": [
       "<div>\n",
       "<style scoped>\n",
       "    .dataframe tbody tr th:only-of-type {\n",
       "        vertical-align: middle;\n",
       "    }\n",
       "\n",
       "    .dataframe tbody tr th {\n",
       "        vertical-align: top;\n",
       "    }\n",
       "\n",
       "    .dataframe thead th {\n",
       "        text-align: right;\n",
       "    }\n",
       "</style>\n",
       "<table border=\"1\" class=\"dataframe\">\n",
       "  <thead>\n",
       "    <tr style=\"text-align: right;\">\n",
       "      <th></th>\n",
       "      <th>title</th>\n",
       "      <th>description</th>\n",
       "      <th>clean_description</th>\n",
       "      <th>genres</th>\n",
       "      <th>weighted_score</th>\n",
       "      <th>Fiction</th>\n",
       "      <th>Romance</th>\n",
       "      <th>Nonfiction</th>\n",
       "      <th>Children's</th>\n",
       "      <th>Young Adult</th>\n",
       "      <th>...</th>\n",
       "      <th>Thriller</th>\n",
       "      <th>Fantasy</th>\n",
       "      <th>Science Fiction</th>\n",
       "      <th>Horror</th>\n",
       "      <th>Drama</th>\n",
       "      <th>Poetry</th>\n",
       "      <th>Art</th>\n",
       "      <th>Humor</th>\n",
       "      <th>Religion</th>\n",
       "      <th>labels</th>\n",
       "    </tr>\n",
       "  </thead>\n",
       "  <tbody>\n",
       "    <tr>\n",
       "      <th>0</th>\n",
       "      <td>Harry Potter and the Sorcerer's Stone</td>\n",
       "      <td>Harry Potter's life is miserable. His parents ...</td>\n",
       "      <td>harry potter life miserable parent dead he stu...</td>\n",
       "      <td>['Fantasy', 'Fiction', 'Young Adult', 'Magic',...</td>\n",
       "      <td>2.388000</td>\n",
       "      <td>1</td>\n",
       "      <td>0</td>\n",
       "      <td>0</td>\n",
       "      <td>1</td>\n",
       "      <td>1</td>\n",
       "      <td>...</td>\n",
       "      <td>0</td>\n",
       "      <td>1</td>\n",
       "      <td>0</td>\n",
       "      <td>0</td>\n",
       "      <td>0</td>\n",
       "      <td>0</td>\n",
       "      <td>0</td>\n",
       "      <td>0</td>\n",
       "      <td>0</td>\n",
       "      <td>[1, 0, 0, 1, 1, 0, 0, 0, 0, 1, 0, 0, 0, 0, 0, ...</td>\n",
       "    </tr>\n",
       "    <tr>\n",
       "      <th>1</th>\n",
       "      <td>The Hunger Games</td>\n",
       "      <td>WINNING MEANS FAME AND FORTUNE.LOSING MEANS CE...</td>\n",
       "      <td>winning mean fame fortune losing mean certain ...</td>\n",
       "      <td>['Young Adult', 'Fiction', 'Dystopia', 'Fantas...</td>\n",
       "      <td>2.274822</td>\n",
       "      <td>1</td>\n",
       "      <td>1</td>\n",
       "      <td>0</td>\n",
       "      <td>1</td>\n",
       "      <td>1</td>\n",
       "      <td>...</td>\n",
       "      <td>0</td>\n",
       "      <td>1</td>\n",
       "      <td>1</td>\n",
       "      <td>0</td>\n",
       "      <td>0</td>\n",
       "      <td>0</td>\n",
       "      <td>0</td>\n",
       "      <td>0</td>\n",
       "      <td>0</td>\n",
       "      <td>[1, 1, 0, 1, 1, 1, 0, 0, 0, 1, 1, 0, 0, 0, 0, ...</td>\n",
       "    </tr>\n",
       "  </tbody>\n",
       "</table>\n",
       "<p>2 rows × 23 columns</p>\n",
       "</div>"
      ],
      "text/plain": [
       "                                   title  \\\n",
       "0  Harry Potter and the Sorcerer's Stone   \n",
       "1                       The Hunger Games   \n",
       "\n",
       "                                         description  \\\n",
       "0  Harry Potter's life is miserable. His parents ...   \n",
       "1  WINNING MEANS FAME AND FORTUNE.LOSING MEANS CE...   \n",
       "\n",
       "                                   clean_description  \\\n",
       "0  harry potter life miserable parent dead he stu...   \n",
       "1  winning mean fame fortune losing mean certain ...   \n",
       "\n",
       "                                              genres  weighted_score  Fiction  \\\n",
       "0  ['Fantasy', 'Fiction', 'Young Adult', 'Magic',...        2.388000        1   \n",
       "1  ['Young Adult', 'Fiction', 'Dystopia', 'Fantas...        2.274822        1   \n",
       "\n",
       "   Romance  Nonfiction  Children's  Young Adult  ...  Thriller  Fantasy  \\\n",
       "0        0           0           1            1  ...         0        1   \n",
       "1        1           0           1            1  ...         0        1   \n",
       "\n",
       "   Science Fiction  Horror  Drama  Poetry  Art  Humor  Religion  \\\n",
       "0                0       0      0       0    0      0         0   \n",
       "1                1       0      0       0    0      0         0   \n",
       "\n",
       "                                              labels  \n",
       "0  [1, 0, 0, 1, 1, 0, 0, 0, 0, 1, 0, 0, 0, 0, 0, ...  \n",
       "1  [1, 1, 0, 1, 1, 1, 0, 0, 0, 1, 1, 0, 0, 0, 0, ...  \n",
       "\n",
       "[2 rows x 23 columns]"
      ]
     },
     "execution_count": 7,
     "metadata": {},
     "output_type": "execute_result"
    }
   ],
   "source": [
    "books_with_label_df = books_out_df.copy()\n",
    "books_with_label_df['labels'] = books_with_label_df.apply(lambda x: [x[feature] for feature in major_genres], axis=1)\n",
    "books_with_label_df.head(2)"
   ]
  },
  {
   "cell_type": "code",
   "execution_count": null,
   "metadata": {},
   "outputs": [],
   "source": []
  },
  {
   "cell_type": "code",
   "execution_count": 8,
   "metadata": {},
   "outputs": [
    {
     "data": {
      "text/html": [
       "<div>\n",
       "<style scoped>\n",
       "    .dataframe tbody tr th:only-of-type {\n",
       "        vertical-align: middle;\n",
       "    }\n",
       "\n",
       "    .dataframe tbody tr th {\n",
       "        vertical-align: top;\n",
       "    }\n",
       "\n",
       "    .dataframe thead th {\n",
       "        text-align: right;\n",
       "    }\n",
       "</style>\n",
       "<table border=\"1\" class=\"dataframe\">\n",
       "  <thead>\n",
       "    <tr style=\"text-align: right;\">\n",
       "      <th></th>\n",
       "      <th>title</th>\n",
       "      <th>description</th>\n",
       "      <th>clean_description</th>\n",
       "      <th>genres</th>\n",
       "      <th>weighted_score</th>\n",
       "      <th>Fiction</th>\n",
       "      <th>Romance</th>\n",
       "      <th>Nonfiction</th>\n",
       "      <th>Children's</th>\n",
       "      <th>Young Adult</th>\n",
       "      <th>...</th>\n",
       "      <th>Thriller</th>\n",
       "      <th>Fantasy</th>\n",
       "      <th>Science Fiction</th>\n",
       "      <th>Horror</th>\n",
       "      <th>Drama</th>\n",
       "      <th>Poetry</th>\n",
       "      <th>Art</th>\n",
       "      <th>Humor</th>\n",
       "      <th>Religion</th>\n",
       "      <th>labels</th>\n",
       "    </tr>\n",
       "  </thead>\n",
       "  <tbody>\n",
       "    <tr>\n",
       "      <th>0</th>\n",
       "      <td>Harry Potter and the Sorcerer's Stone</td>\n",
       "      <td>Harry Potter's life is miserable. His parents ...</td>\n",
       "      <td>Harry Potter and the Sorcerer's Stone harry po...</td>\n",
       "      <td>['Fantasy', 'Fiction', 'Young Adult', 'Magic',...</td>\n",
       "      <td>2.388000</td>\n",
       "      <td>1</td>\n",
       "      <td>0</td>\n",
       "      <td>0</td>\n",
       "      <td>1</td>\n",
       "      <td>1</td>\n",
       "      <td>...</td>\n",
       "      <td>0</td>\n",
       "      <td>1</td>\n",
       "      <td>0</td>\n",
       "      <td>0</td>\n",
       "      <td>0</td>\n",
       "      <td>0</td>\n",
       "      <td>0</td>\n",
       "      <td>0</td>\n",
       "      <td>0</td>\n",
       "      <td>[1, 0, 0, 1, 1, 0, 0, 0, 0, 1, 0, 0, 0, 0, 0, ...</td>\n",
       "    </tr>\n",
       "    <tr>\n",
       "      <th>1</th>\n",
       "      <td>The Hunger Games</td>\n",
       "      <td>WINNING MEANS FAME AND FORTUNE.LOSING MEANS CE...</td>\n",
       "      <td>The Hunger Games winning mean fame fortune los...</td>\n",
       "      <td>['Young Adult', 'Fiction', 'Dystopia', 'Fantas...</td>\n",
       "      <td>2.274822</td>\n",
       "      <td>1</td>\n",
       "      <td>1</td>\n",
       "      <td>0</td>\n",
       "      <td>1</td>\n",
       "      <td>1</td>\n",
       "      <td>...</td>\n",
       "      <td>0</td>\n",
       "      <td>1</td>\n",
       "      <td>1</td>\n",
       "      <td>0</td>\n",
       "      <td>0</td>\n",
       "      <td>0</td>\n",
       "      <td>0</td>\n",
       "      <td>0</td>\n",
       "      <td>0</td>\n",
       "      <td>[1, 1, 0, 1, 1, 1, 0, 0, 0, 1, 1, 0, 0, 0, 0, ...</td>\n",
       "    </tr>\n",
       "  </tbody>\n",
       "</table>\n",
       "<p>2 rows × 23 columns</p>\n",
       "</div>"
      ],
      "text/plain": [
       "                                   title  \\\n",
       "0  Harry Potter and the Sorcerer's Stone   \n",
       "1                       The Hunger Games   \n",
       "\n",
       "                                         description  \\\n",
       "0  Harry Potter's life is miserable. His parents ...   \n",
       "1  WINNING MEANS FAME AND FORTUNE.LOSING MEANS CE...   \n",
       "\n",
       "                                   clean_description  \\\n",
       "0  Harry Potter and the Sorcerer's Stone harry po...   \n",
       "1  The Hunger Games winning mean fame fortune los...   \n",
       "\n",
       "                                              genres  weighted_score  Fiction  \\\n",
       "0  ['Fantasy', 'Fiction', 'Young Adult', 'Magic',...        2.388000        1   \n",
       "1  ['Young Adult', 'Fiction', 'Dystopia', 'Fantas...        2.274822        1   \n",
       "\n",
       "   Romance  Nonfiction  Children's  Young Adult  ...  Thriller  Fantasy  \\\n",
       "0        0           0           1            1  ...         0        1   \n",
       "1        1           0           1            1  ...         0        1   \n",
       "\n",
       "   Science Fiction  Horror  Drama  Poetry  Art  Humor  Religion  \\\n",
       "0                0       0      0       0    0      0         0   \n",
       "1                1       0      0       0    0      0         0   \n",
       "\n",
       "                                              labels  \n",
       "0  [1, 0, 0, 1, 1, 0, 0, 0, 0, 1, 0, 0, 0, 0, 0, ...  \n",
       "1  [1, 1, 0, 1, 1, 1, 0, 0, 0, 1, 1, 0, 0, 0, 0, ...  \n",
       "\n",
       "[2 rows x 23 columns]"
      ]
     },
     "execution_count": 8,
     "metadata": {},
     "output_type": "execute_result"
    }
   ],
   "source": [
    "books_with_label_df['clean_description'] = books_with_label_df['title'] + ' ' + books_with_label_df['clean_description']\n",
    "books_with_label_df.head(2)"
   ]
  },
  {
   "cell_type": "code",
   "execution_count": 9,
   "metadata": {},
   "outputs": [],
   "source": [
    "import math\n",
    "train_size = math.floor(len(books_df) * 0.7)"
   ]
  },
  {
   "cell_type": "code",
   "execution_count": 10,
   "metadata": {},
   "outputs": [],
   "source": [
    "books_t_train = books_with_label_df[:train_size].copy()[['clean_description', 'labels']]\n",
    "books_t_test = books_with_label_df[train_size:].copy()[['clean_description', 'labels']]"
   ]
  },
  {
   "cell_type": "code",
   "execution_count": 11,
   "metadata": {},
   "outputs": [
    {
     "data": {
      "text/plain": [
       "[0, 0, 1, 1, 0, 0, 0, 0, 0, 0, 0, 0, 0, 0, 0, 0, 0]"
      ]
     },
     "execution_count": 11,
     "metadata": {},
     "output_type": "execute_result"
    }
   ],
   "source": [
    "books_t_test.iloc[0]['labels']"
   ]
  },
  {
   "cell_type": "code",
   "execution_count": 12,
   "metadata": {},
   "outputs": [
    {
     "name": "stderr",
     "output_type": "stream",
     "text": [
      "C:\\Users\\abhya\\AppData\\Roaming\\Python\\Python312\\site-packages\\huggingface_hub\\file_download.py:139: UserWarning: `huggingface_hub` cache-system uses symlinks by default to efficiently store duplicated files but your machine does not support them in C:\\Users\\abhya\\.cache\\huggingface\\hub\\models--roberta-base. Caching files will still work but in a degraded version that might require more space on your disk. This warning can be disabled by setting the `HF_HUB_DISABLE_SYMLINKS_WARNING` environment variable. For more details, see https://huggingface.co/docs/huggingface_hub/how-to-cache#limitations.\n",
      "To support symlinks on Windows, you either need to activate Developer Mode or to run Python as an administrator. In order to activate developer mode, see this article: https://docs.microsoft.com/en-us/windows/apps/get-started/enable-your-device-for-development\n",
      "  warnings.warn(message)\n",
      "Some weights of RobertaForMultiLabelSequenceClassification were not initialized from the model checkpoint at roberta-base and are newly initialized: ['classifier.dense.bias', 'classifier.dense.weight', 'classifier.out_proj.bias', 'classifier.out_proj.weight', 'roberta.pooler.dense.bias', 'roberta.pooler.dense.weight']\n",
      "You should probably TRAIN this model on a down-stream task to be able to use it for predictions and inference.\n",
      "56it [00:33,  1.67it/s]                        \n",
      "Epoch:   0%|          | 0/5 [00:00<?, ?it/s]C:\\Users\\abhya\\AppData\\Roaming\\Python\\Python312\\site-packages\\simpletransformers\\classification\\classification_model.py:882: FutureWarning: `torch.cuda.amp.GradScaler(args...)` is deprecated. Please use `torch.amp.GradScaler('cuda', args...)` instead.\n",
      "  scaler = amp.GradScaler()\n",
      "Epoch 1 of 5:   0%|          | 0/5 [00:00<?, ?it/s]C:\\Users\\abhya\\AppData\\Roaming\\Python\\Python312\\site-packages\\simpletransformers\\classification\\classification_model.py:905: FutureWarning: `torch.cuda.amp.autocast(args...)` is deprecated. Please use `torch.amp.autocast('cuda', args...)` instead.\n",
      "  with amp.autocast():\n",
      "Epochs 1/5. Running Loss:    0.2289: 100%|██████████| 3444/3444 [07:01<00:00,  8.17it/s]\n",
      "Epochs 2/5. Running Loss:    0.1473: 100%|██████████| 3444/3444 [07:03<00:00,  8.13it/s]\n",
      "Epochs 3/5. Running Loss:    0.1772: 100%|██████████| 3444/3444 [07:04<00:00,  8.11it/s]\n",
      "Epochs 4/5. Running Loss:    0.1242: 100%|██████████| 3444/3444 [07:03<00:00,  8.14it/s]\n",
      "Epochs 5/5. Running Loss:    0.1854: 100%|██████████| 3444/3444 [07:04<00:00,  8.10it/s]\n",
      "Epoch 5 of 5: 100%|██████████| 5/5 [35:26<00:00, 425.25s/it]\n",
      "24it [00:21,  1.11it/s]                        \n",
      "Running Evaluation:   0%|          | 0/119 [00:00<?, ?it/s]C:\\Users\\abhya\\AppData\\Roaming\\Python\\Python312\\site-packages\\simpletransformers\\classification\\classification_model.py:1505: FutureWarning: `torch.cuda.amp.autocast(args...)` is deprecated. Please use `torch.amp.autocast('cuda', args...)` instead.\n",
      "  with amp.autocast():\n",
      "Running Evaluation: 100%|██████████| 119/119 [00:23<00:00,  5.09it/s]\n"
     ]
    }
   ],
   "source": [
    "transformers_logger = logging.getLogger(\"transformers\")\n",
    "transformers_logger.setLevel(logging.WARNING)\n",
    "\n",
    "train_df = books_t_train\n",
    "train_df.columns = [\"text\", \"labels\"]\n",
    "\n",
    "eval_df = books_t_test\n",
    "eval_df.columns = [\"text\", \"labels\"]\n",
    "\n",
    "# Optional model configuration\n",
    "model_args = MultiLabelClassificationArgs(num_train_epochs=5,\n",
    "    overwrite_output_dir=True)\n",
    "\n",
    "# Create a MultiLabelClassificationModel\n",
    "# \"roberta\",\n",
    "#     \"roberta-base\",\n",
    "model = MultiLabelClassificationModel(\n",
    "    \"roberta\",\n",
    "    \"roberta-base\",\n",
    "    num_labels=len(major_genres),\n",
    "    args=model_args\n",
    ")\n",
    "\n",
    "# Train the model\n",
    "model.train_model(train_df)\n",
    "\n",
    "# Evaluate the model\n",
    "result, model_outputs, wrong_predictions = model.eval_model(\n",
    "    eval_df\n",
    ")"
   ]
  },
  {
   "cell_type": "code",
   "execution_count": 13,
   "metadata": {},
   "outputs": [
    {
     "data": {
      "text/plain": [
       "{'LRAP': np.float64(0.9143690798778307), 'eval_loss': 0.26405196367692546}"
      ]
     },
     "execution_count": 13,
     "metadata": {},
     "output_type": "execute_result"
    }
   ],
   "source": [
    "result"
   ]
  },
  {
   "cell_type": "code",
   "execution_count": null,
   "metadata": {},
   "outputs": [],
   "source": [
    "result"
   ]
  },
  {
   "cell_type": "code",
   "execution_count": 14,
   "metadata": {},
   "outputs": [],
   "source": [
    "import pickle\n",
    "pickle.dump(model, open('model-v33.pkl', 'wb'))"
   ]
  },
  {
   "cell_type": "code",
   "execution_count": 15,
   "metadata": {},
   "outputs": [],
   "source": [
    "test_desc = \"John Form has found the perfect gift for his expectant wife, Mia - a beautiful, rare vintage doll in a pure white wedding dress. But Mia's delight with Annabelle doesn't last long. On one horrific night, their home is invaded by members of a satanic cult, who violently attack the couple. Spilled blood and terror are not all they leave behind. The cultists have conjured an entity so malevolent that nothing they did will compare to the sinister conduit to the damned that is now... Annabelle\""
   ]
  },
  {
   "cell_type": "code",
   "execution_count": 16,
   "metadata": {},
   "outputs": [
    {
     "name": "stderr",
     "output_type": "stream",
     "text": [
      "1it [00:05,  5.40s/it]\n",
      "  0%|          | 0/1 [00:00<?, ?it/s]C:\\Users\\abhya\\AppData\\Roaming\\Python\\Python312\\site-packages\\simpletransformers\\classification\\classification_model.py:2188: FutureWarning: `torch.cuda.amp.autocast(args...)` is deprecated. Please use `torch.amp.autocast('cuda', args...)` instead.\n",
      "  with amp.autocast():\n",
      "100%|██████████| 1/1 [00:00<00:00,  8.90it/s]\n"
     ]
    }
   ],
   "source": [
    "prediction, raw_outputs = model.predict([test_desc])"
   ]
  },
  {
   "cell_type": "code",
   "execution_count": null,
   "metadata": {},
   "outputs": [],
   "source": [
    "prediction, raw_outputs = model.predict([test_desc])"
   ]
  },
  {
   "cell_type": "code",
   "execution_count": 17,
   "metadata": {},
   "outputs": [
    {
     "data": {
      "text/plain": [
       "['Fiction', \"Children's\", 'Mystery', 'Crime', 'Thriller', 'Fantasy', 'Horror']"
      ]
     },
     "execution_count": 17,
     "metadata": {},
     "output_type": "execute_result"
    }
   ],
   "source": [
    "[feature for i, feature in enumerate(major_genres) if prediction[0][i]]"
   ]
  }
 ],
 "metadata": {
  "kernelspec": {
   "display_name": "Python 3",
   "language": "python",
   "name": "python3"
  },
  "language_info": {
   "codemirror_mode": {
    "name": "ipython",
    "version": 3
   },
   "file_extension": ".py",
   "mimetype": "text/x-python",
   "name": "python",
   "nbconvert_exporter": "python",
   "pygments_lexer": "ipython3",
   "version": "3.12.6"
  }
 },
 "nbformat": 4,
 "nbformat_minor": 2
}
